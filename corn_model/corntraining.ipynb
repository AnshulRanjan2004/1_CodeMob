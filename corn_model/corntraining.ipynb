{
 "cells": [
  {
   "cell_type": "code",
   "execution_count": 8,
   "metadata": {},
   "outputs": [],
   "source": [
    "from tensorflow.keras.models import Sequential, Model\n",
    "from tensorflow.keras.layers import Conv2D,Activation,LeakyReLU,BatchNormalization,MaxPooling2D,Flatten,Dense,Dropout\n",
    "from tensorflow.keras.optimizers import Adam\n",
    "from tensorflow.keras import backend as K\n",
    "\n",
    "\n",
    "from tensorflow.keras.preprocessing import image\n",
    "from tensorflow.keras.preprocessing.image import ImageDataGenerator,img_to_array\n",
    "#import xgboost as xgb\n",
    "import matplotlib.pyplot as plt\n",
    "import pandas as pd\n",
    "import numpy as np"
   ]
  },
  {
   "cell_type": "code",
   "execution_count": 7,
   "metadata": {},
   "outputs": [
    {
     "name": "stdout",
     "output_type": "stream",
     "text": [
      "Collecting tensorflow\n",
      "  Downloading tensorflow-2.11.0-cp39-cp39-win_amd64.whl (1.9 kB)\n",
      "Collecting tensorflow-intel==2.11.0\n",
      "  Downloading tensorflow_intel-2.11.0-cp39-cp39-win_amd64.whl (266.3 MB)\n",
      "Requirement already satisfied: packaging in c:\\users\\furta\\anaconda3\\lib\\site-packages (from tensorflow-intel==2.11.0->tensorflow) (21.3)\n",
      "Collecting tensorflow-estimator<2.12,>=2.11.0\n",
      "  Using cached tensorflow_estimator-2.11.0-py2.py3-none-any.whl (439 kB)\n",
      "Requirement already satisfied: six>=1.12.0 in c:\\users\\furta\\anaconda3\\lib\\site-packages (from tensorflow-intel==2.11.0->tensorflow) (1.16.0)\n",
      "Requirement already satisfied: absl-py>=1.0.0 in c:\\users\\furta\\anaconda3\\lib\\site-packages (from tensorflow-intel==2.11.0->tensorflow) (1.4.0)\n",
      "Collecting tensorboard<2.12,>=2.11\n",
      "  Using cached tensorboard-2.11.2-py3-none-any.whl (6.0 MB)\n",
      "Requirement already satisfied: wrapt>=1.11.0 in c:\\users\\furta\\anaconda3\\lib\\site-packages (from tensorflow-intel==2.11.0->tensorflow) (1.12.1)\n",
      "Collecting termcolor>=1.1.0\n",
      "  Using cached termcolor-2.2.0-py3-none-any.whl (6.6 kB)\n",
      "Requirement already satisfied: h5py>=2.9.0 in c:\\users\\furta\\anaconda3\\lib\\site-packages (from tensorflow-intel==2.11.0->tensorflow) (3.6.0)\n",
      "Collecting opt-einsum>=2.3.2\n",
      "  Using cached opt_einsum-3.3.0-py3-none-any.whl (65 kB)\n",
      "Collecting astunparse>=1.6.0\n",
      "  Using cached astunparse-1.6.3-py2.py3-none-any.whl (12 kB)\n",
      "Requirement already satisfied: grpcio<2.0,>=1.24.3 in c:\\users\\furta\\anaconda3\\lib\\site-packages (from tensorflow-intel==2.11.0->tensorflow) (1.42.0)\n",
      "Requirement already satisfied: numpy>=1.20 in c:\\users\\furta\\anaconda3\\lib\\site-packages (from tensorflow-intel==2.11.0->tensorflow) (1.21.5)\n",
      "Collecting libclang>=13.0.0\n",
      "  Using cached libclang-15.0.6.1-py2.py3-none-win_amd64.whl (23.2 MB)\n",
      "Collecting keras<2.12,>=2.11.0\n",
      "  Using cached keras-2.11.0-py2.py3-none-any.whl (1.7 MB)\n",
      "Requirement already satisfied: flatbuffers>=2.0 in c:\\users\\furta\\anaconda3\\lib\\site-packages (from tensorflow-intel==2.11.0->tensorflow) (23.1.4)\n",
      "Requirement already satisfied: protobuf<3.20,>=3.9.2 in c:\\users\\furta\\anaconda3\\lib\\site-packages (from tensorflow-intel==2.11.0->tensorflow) (3.19.1)\n",
      "Collecting gast<=0.4.0,>=0.2.1\n",
      "  Using cached gast-0.4.0-py3-none-any.whl (9.8 kB)\n",
      "Collecting tensorflow-io-gcs-filesystem>=0.23.1\n",
      "  Downloading tensorflow_io_gcs_filesystem-0.30.0-cp39-cp39-win_amd64.whl (1.5 MB)\n",
      "Requirement already satisfied: typing-extensions>=3.6.6 in c:\\users\\furta\\anaconda3\\lib\\site-packages (from tensorflow-intel==2.11.0->tensorflow) (4.1.1)\n",
      "Collecting google-pasta>=0.1.1\n",
      "  Using cached google_pasta-0.2.0-py3-none-any.whl (57 kB)\n",
      "Requirement already satisfied: setuptools in c:\\users\\furta\\anaconda3\\lib\\site-packages (from tensorflow-intel==2.11.0->tensorflow) (61.2.0)\n",
      "Requirement already satisfied: wheel<1.0,>=0.23.0 in c:\\users\\furta\\anaconda3\\lib\\site-packages (from astunparse>=1.6.0->tensorflow-intel==2.11.0->tensorflow) (0.37.1)\n",
      "Requirement already satisfied: werkzeug>=1.0.1 in c:\\users\\furta\\anaconda3\\lib\\site-packages (from tensorboard<2.12,>=2.11->tensorflow-intel==2.11.0->tensorflow) (2.0.3)\n",
      "Collecting tensorboard-data-server<0.7.0,>=0.6.0\n",
      "  Using cached tensorboard_data_server-0.6.1-py3-none-any.whl (2.4 kB)\n",
      "Requirement already satisfied: requests<3,>=2.21.0 in c:\\users\\furta\\anaconda3\\lib\\site-packages (from tensorboard<2.12,>=2.11->tensorflow-intel==2.11.0->tensorflow) (2.27.1)\n",
      "Requirement already satisfied: google-auth<3,>=1.6.3 in c:\\users\\furta\\anaconda3\\lib\\site-packages (from tensorboard<2.12,>=2.11->tensorflow-intel==2.11.0->tensorflow) (1.33.0)\n",
      "Collecting google-auth-oauthlib<0.5,>=0.4.1\n",
      "  Using cached google_auth_oauthlib-0.4.6-py2.py3-none-any.whl (18 kB)\n",
      "Requirement already satisfied: markdown>=2.6.8 in c:\\users\\furta\\anaconda3\\lib\\site-packages (from tensorboard<2.12,>=2.11->tensorflow-intel==2.11.0->tensorflow) (3.3.4)\n",
      "Collecting tensorboard-plugin-wit>=1.6.0\n",
      "  Using cached tensorboard_plugin_wit-1.8.1-py3-none-any.whl (781 kB)\n",
      "Requirement already satisfied: rsa<5,>=3.1.4 in c:\\users\\furta\\anaconda3\\lib\\site-packages (from google-auth<3,>=1.6.3->tensorboard<2.12,>=2.11->tensorflow-intel==2.11.0->tensorflow) (4.7.2)\n",
      "Requirement already satisfied: pyasn1-modules>=0.2.1 in c:\\users\\furta\\anaconda3\\lib\\site-packages (from google-auth<3,>=1.6.3->tensorboard<2.12,>=2.11->tensorflow-intel==2.11.0->tensorflow) (0.2.8)\n",
      "Requirement already satisfied: cachetools<5.0,>=2.0.0 in c:\\users\\furta\\anaconda3\\lib\\site-packages (from google-auth<3,>=1.6.3->tensorboard<2.12,>=2.11->tensorflow-intel==2.11.0->tensorflow) (4.2.2)\n",
      "Collecting requests-oauthlib>=0.7.0\n",
      "  Using cached requests_oauthlib-1.3.1-py2.py3-none-any.whl (23 kB)\n",
      "Requirement already satisfied: pyasn1<0.5.0,>=0.4.6 in c:\\users\\furta\\anaconda3\\lib\\site-packages (from pyasn1-modules>=0.2.1->google-auth<3,>=1.6.3->tensorboard<2.12,>=2.11->tensorflow-intel==2.11.0->tensorflow) (0.4.8)\n",
      "Requirement already satisfied: certifi>=2017.4.17 in c:\\users\\furta\\anaconda3\\lib\\site-packages (from requests<3,>=2.21.0->tensorboard<2.12,>=2.11->tensorflow-intel==2.11.0->tensorflow) (2021.10.8)\n",
      "Requirement already satisfied: idna<4,>=2.5 in c:\\users\\furta\\anaconda3\\lib\\site-packages (from requests<3,>=2.21.0->tensorboard<2.12,>=2.11->tensorflow-intel==2.11.0->tensorflow) (3.3)\n",
      "Requirement already satisfied: charset-normalizer~=2.0.0 in c:\\users\\furta\\anaconda3\\lib\\site-packages (from requests<3,>=2.21.0->tensorboard<2.12,>=2.11->tensorflow-intel==2.11.0->tensorflow) (2.0.4)\n",
      "Requirement already satisfied: urllib3<1.27,>=1.21.1 in c:\\users\\furta\\anaconda3\\lib\\site-packages (from requests<3,>=2.21.0->tensorboard<2.12,>=2.11->tensorflow-intel==2.11.0->tensorflow) (1.26.9)\n",
      "Collecting oauthlib>=3.0.0\n",
      "  Using cached oauthlib-3.2.2-py3-none-any.whl (151 kB)\n",
      "Requirement already satisfied: pyparsing!=3.0.5,>=2.0.2 in c:\\users\\furta\\anaconda3\\lib\\site-packages (from packaging->tensorflow-intel==2.11.0->tensorflow) (3.0.4)\n",
      "Installing collected packages: oauthlib, requests-oauthlib, tensorboard-plugin-wit, tensorboard-data-server, google-auth-oauthlib, termcolor, tensorflow-io-gcs-filesystem, tensorflow-estimator, tensorboard, opt-einsum, libclang, keras, google-pasta, gast, astunparse, tensorflow-intel, tensorflow\n",
      "Successfully installed astunparse-1.6.3 gast-0.4.0 google-auth-oauthlib-0.4.6 google-pasta-0.2.0 keras-2.11.0 libclang-15.0.6.1 oauthlib-3.2.2 opt-einsum-3.3.0 requests-oauthlib-1.3.1 tensorboard-2.11.2 tensorboard-data-server-0.6.1 tensorboard-plugin-wit-1.8.1 tensorflow-2.11.0 tensorflow-estimator-2.11.0 tensorflow-intel-2.11.0 tensorflow-io-gcs-filesystem-0.30.0 termcolor-2.2.0\n"
     ]
    }
   ],
   "source": [
    "!pip install tensorflow\n"
   ]
  },
  {
   "cell_type": "code",
   "execution_count": 10,
   "metadata": {},
   "outputs": [],
   "source": [
    "import pickle\n",
    "import cv2\n",
    "import os\n",
    "from os import listdir\n",
    "from sklearn.preprocessing import LabelBinarizer,MultiLabelBinarizer\n",
    "from sklearn.model_selection import train_test_split"
   ]
  },
  {
   "cell_type": "code",
   "execution_count": 17,
   "metadata": {},
   "outputs": [
    {
     "data": {
      "text/plain": [
       "['Corn_(maize)___Cercospora_leaf_spot Gray_leaf_spot',\n",
       " 'Corn_(maize)___Common_rust_',\n",
       " 'Corn_(maize)___healthy',\n",
       " 'Corn_(maize)___Northern_Leaf_Blight']"
      ]
     },
     "execution_count": 17,
     "metadata": {},
     "output_type": "execute_result"
    }
   ],
   "source": [
    "root_dir = r'C:\\ashlin\\college study material\\1_CodeMob\\corn_model\\Data_Corn'\n",
    "\n",
    "os.chdir(root_dir)\n",
    "listdir()"
   ]
  },
  {
   "cell_type": "code",
   "execution_count": 31,
   "metadata": {},
   "outputs": [],
   "source": [
    "DEFAULT_IMAGE_SIZE = tuple((256, 256))\n",
    "\n",
    "# Number of images used to train the model\n",
    "N_IMAGES = 100\n",
    "\n",
    "data_dir = os.path.join(root_dir,'train')\n",
    "def convert_image_to_array(image_dir):\n",
    "    try:\n",
    "        image = cv2.imread(image_dir)\n",
    "        if image is not None:\n",
    "            image = cv2.resize(image, DEFAULT_IMAGE_SIZE)   \n",
    "            return img_to_array(image)\n",
    "        else:\n",
    "            return np.array([])\n",
    "    except Exception as e:\n",
    "        print(f\"Error : {e}\")\n",
    "        return None"
   ]
  },
  {
   "cell_type": "code",
   "execution_count": 33,
   "metadata": {},
   "outputs": [
    {
     "name": "stdout",
     "output_type": "stream",
     "text": [
      "4\n"
     ]
    }
   ],
   "source": [
    "plant_disease_folder_list = listdir(data_dir)\n",
    "print(len(plant_disease_folder_list))"
   ]
  },
  {
   "cell_type": "code",
   "execution_count": 34,
   "metadata": {},
   "outputs": [
    {
     "name": "stdout",
     "output_type": "stream",
     "text": [
      "Loading Image Data ...\n",
      "train\n",
      "Processing  Corn_(maize)___Cercospora_leaf_spot Gray_leaf_spot ...\n",
      "Processing  Corn_(maize)___Common_rust_ ...\n",
      "Processing  Corn_(maize)___healthy ...\n",
      "Processing  Corn_(maize)___Northern_Leaf_Blight ...\n",
      "All the images have successfully loaded!!\n"
     ]
    }
   ],
   "source": [
    "image_list, label_list = [], []\n",
    "\n",
    "try:\n",
    "    print(\"Loading Image Data ...\")\n",
    "    for s in listdir():\n",
    "        print(s)\n",
    "        plant_disease_folder_list = listdir(s)\n",
    "\n",
    "        for plant_disease_folder in plant_disease_folder_list:\n",
    "            print(f\"Processing  {plant_disease_folder} ...\")\n",
    "            plant_disease_image_list = listdir(f\"{data_dir}/{plant_disease_folder}/\")\n",
    "\n",
    "            for image in plant_disease_image_list[:N_IMAGES]:\n",
    "                image_directory = f\"{data_dir}/{plant_disease_folder}/{image}\"\n",
    "                if image_directory.endswith(\".jpg\")==True or image_directory.endswith(\".JPG\")==True:\n",
    "                    image_list.append(convert_image_to_array(image_directory))\n",
    "                    label_list.append(plant_disease_folder)\n",
    "\n",
    "    print(\"All the images have successfully loaded!!\")  \n",
    "except Exception as e:\n",
    "    print(f\"Error : {e}\")"
   ]
  },
  {
   "cell_type": "code",
   "execution_count": 39,
   "metadata": {},
   "outputs": [
    {
     "name": "stdout",
     "output_type": "stream",
     "text": [
      "Total number of images: 400\n"
     ]
    }
   ],
   "source": [
    "np_image_list = np.array(image_list, dtype=np.float16) / 255.0\n",
    "\n",
    "# Check the number of images loaded for training\n",
    "image_len = len(image_list)\n",
    "print(f\"Total number of images: {image_len}\")"
   ]
  },
  {
   "cell_type": "code",
   "execution_count": 36,
   "metadata": {},
   "outputs": [
    {
     "name": "stdout",
     "output_type": "stream",
     "text": [
      "Total number of classes:  4\n"
     ]
    }
   ],
   "source": [
    "label_binarizer = LabelBinarizer()\n",
    "image_labels = label_binarizer.fit_transform(label_list)\n",
    "\n",
    "# pickle.dump(label_binarizer,open('plant_disease_label_transform.pkl', 'wb'))\n",
    "n_classes = len(label_binarizer.classes_)\n",
    "\n",
    "print(\"Total number of classes: \", n_classes)"
   ]
  },
  {
   "cell_type": "code",
   "execution_count": 37,
   "metadata": {},
   "outputs": [],
   "source": [
    "augment = ImageDataGenerator(rotation_range=25, width_shift_range=0.1,\n",
    "                             height_shift_range=0.1, shear_range=0.2, \n",
    "                             zoom_range=0.2, horizontal_flip=True, \n",
    "                             fill_mode=\"nearest\")"
   ]
  },
  {
   "cell_type": "code",
   "execution_count": 40,
   "metadata": {},
   "outputs": [
    {
     "name": "stdout",
     "output_type": "stream",
     "text": [
      "Successfully split data into TRAIN & TEST\n"
     ]
    }
   ],
   "source": [
    "x_train, x_test, y_train, y_test = train_test_split(np_image_list, image_labels, test_size=0.2, random_state = 42)\n",
    "print('Successfully split data into TRAIN & TEST')"
   ]
  },
  {
   "cell_type": "code",
   "execution_count": 49,
   "metadata": {},
   "outputs": [
    {
     "name": "stdout",
     "output_type": "stream",
     "text": [
      "Model: \"sequential_2\"\n",
      "_________________________________________________________________\n",
      " Layer (type)                Output Shape              Param #   \n",
      "=================================================================\n",
      " conv2d_5 (Conv2D)           (None, 256, 256, 32)      896       \n",
      "                                                                 \n",
      " leaky_re_lu_6 (LeakyReLU)   (None, 256, 256, 32)      0         \n",
      "                                                                 \n",
      " batch_normalization_6 (Batc  (None, 256, 256, 32)     128       \n",
      " hNormalization)                                                 \n",
      "                                                                 \n",
      " max_pooling2d_3 (MaxPooling  (None, 85, 85, 32)       0         \n",
      " 2D)                                                             \n",
      "                                                                 \n",
      " dropout_4 (Dropout)         (None, 85, 85, 32)        0         \n",
      "                                                                 \n",
      " conv2d_6 (Conv2D)           (None, 85, 85, 64)        18496     \n",
      "                                                                 \n",
      " leaky_re_lu_7 (LeakyReLU)   (None, 85, 85, 64)        0         \n",
      "                                                                 \n",
      " batch_normalization_7 (Batc  (None, 85, 85, 64)       256       \n",
      " hNormalization)                                                 \n",
      "                                                                 \n",
      " conv2d_7 (Conv2D)           (None, 85, 85, 64)        36928     \n",
      "                                                                 \n",
      " leaky_re_lu_8 (LeakyReLU)   (None, 85, 85, 64)        0         \n",
      "                                                                 \n",
      " batch_normalization_8 (Batc  (None, 85, 85, 64)       256       \n",
      " hNormalization)                                                 \n",
      "                                                                 \n",
      " max_pooling2d_4 (MaxPooling  (None, 42, 42, 64)       0         \n",
      " 2D)                                                             \n",
      "                                                                 \n",
      " dropout_5 (Dropout)         (None, 42, 42, 64)        0         \n",
      "                                                                 \n",
      " conv2d_8 (Conv2D)           (None, 42, 42, 128)       73856     \n",
      "                                                                 \n",
      " leaky_re_lu_9 (LeakyReLU)   (None, 42, 42, 128)       0         \n",
      "                                                                 \n",
      " batch_normalization_9 (Batc  (None, 42, 42, 128)      512       \n",
      " hNormalization)                                                 \n",
      "                                                                 \n",
      " conv2d_9 (Conv2D)           (None, 42, 42, 128)       147584    \n",
      "                                                                 \n",
      " leaky_re_lu_10 (LeakyReLU)  (None, 42, 42, 128)       0         \n",
      "                                                                 \n",
      " batch_normalization_10 (Bat  (None, 42, 42, 128)      512       \n",
      " chNormalization)                                                \n",
      "                                                                 \n",
      " max_pooling2d_5 (MaxPooling  (None, 21, 21, 128)      0         \n",
      " 2D)                                                             \n",
      "                                                                 \n",
      " dropout_6 (Dropout)         (None, 21, 21, 128)       0         \n",
      "                                                                 \n",
      " flatten_1 (Flatten)         (None, 56448)             0         \n",
      "                                                                 \n",
      " my_dense (Dense)            (None, 1024)              57803776  \n",
      "                                                                 \n",
      " leaky_re_lu_11 (LeakyReLU)  (None, 1024)              0         \n",
      "                                                                 \n",
      " batch_normalization_11 (Bat  (None, 1024)             4096      \n",
      " chNormalization)                                                \n",
      "                                                                 \n",
      " dropout_7 (Dropout)         (None, 1024)              0         \n",
      "                                                                 \n",
      " dense_1 (Dense)             (None, 4)                 4100      \n",
      "                                                                 \n",
      " activation_1 (Activation)   (None, 4)                 0         \n",
      "                                                                 \n",
      "=================================================================\n",
      "Total params: 58,091,396\n",
      "Trainable params: 58,088,516\n",
      "Non-trainable params: 2,880\n",
      "_________________________________________________________________\n"
     ]
    }
   ],
   "source": [
    "EPOCHS = 10\n",
    "STEPS = 100\n",
    "LR = 1e-3\n",
    "BATCH_SIZE = 32\n",
    "WIDTH = 256\n",
    "HEIGHT = 256\n",
    "DEPTH = 3\n",
    "model = Sequential()\n",
    "inputShape = (HEIGHT, WIDTH, DEPTH)\n",
    "chanDim = -1\n",
    "\n",
    "if K.image_data_format() == \"channels_first\":\n",
    "    inputShape = (DEPTH, HEIGHT, WIDTH)\n",
    "    chanDim = 1\n",
    "\n",
    "model.add(Conv2D(32, (3, 3), padding=\"same\",input_shape=inputShape))\n",
    "model.add(LeakyReLU(alpha=0.1))\n",
    "model.add(BatchNormalization(axis=chanDim))\n",
    "model.add(MaxPooling2D(pool_size=(3, 3)))\n",
    "model.add(Dropout(0.25))\n",
    "\n",
    "model.add(Conv2D(64, (3, 3), padding=\"same\"))\n",
    "model.add(LeakyReLU(alpha=0.1))\n",
    "model.add(BatchNormalization(axis=chanDim))\n",
    "\n",
    "model.add(Conv2D(64, (3, 3), padding=\"same\"))\n",
    "model.add(LeakyReLU(alpha=0.1))\n",
    "model.add(BatchNormalization(axis=chanDim))\n",
    "model.add(MaxPooling2D(pool_size=(2, 2)))\n",
    "model.add(Dropout(0.25))\n",
    "\n",
    "model.add(Conv2D(128, (3, 3), padding=\"same\"))\n",
    "model.add(LeakyReLU(alpha=0.1))\n",
    "model.add(BatchNormalization(axis=chanDim))\n",
    "\n",
    "model.add(Conv2D(128, (3, 3), padding=\"same\"))\n",
    "model.add(LeakyReLU(alpha=0.1))\n",
    "model.add(BatchNormalization(axis=chanDim))\n",
    "model.add(MaxPooling2D(pool_size=(2, 2)))\n",
    "model.add(Dropout(0.25))\n",
    "\n",
    "model.add(Flatten())\n",
    "\n",
    "model.add(Dense(1024, name = 'my_dense'))\n",
    "model.add(LeakyReLU(alpha=0.1))\n",
    "model.add(BatchNormalization())\n",
    "model.add(Dropout(0.5))\n",
    "\n",
    "model.add(Dense(n_classes))\n",
    "model.add(Activation(\"softmax\"))\n",
    "\n",
    "model.summary()"
   ]
  },
  {
   "cell_type": "code",
   "execution_count": 51,
   "metadata": {},
   "outputs": [
    {
     "name": "stdout",
     "output_type": "stream",
     "text": [
      "Training CNN...\n",
      "Epoch 1/200\n",
      "10/10 [==============================] - 43s 4s/step - loss: 0.2783 - accuracy: 0.8687 - val_loss: 1.0138 - val_accuracy: 0.2250\n",
      "Epoch 2/200\n",
      "10/10 [==============================] - 36s 4s/step - loss: 0.2587 - accuracy: 0.8438 - val_loss: 0.8775 - val_accuracy: 0.2250\n",
      "Epoch 3/200\n",
      "10/10 [==============================] - 37s 4s/step - loss: 0.1602 - accuracy: 0.9187 - val_loss: 1.4151 - val_accuracy: 0.2250\n",
      "Epoch 4/200\n",
      "10/10 [==============================] - 35s 3s/step - loss: 0.1021 - accuracy: 0.9438 - val_loss: 2.5344 - val_accuracy: 0.2250\n",
      "Epoch 5/200\n",
      "10/10 [==============================] - 33s 3s/step - loss: 0.0964 - accuracy: 0.9500 - val_loss: 2.7368 - val_accuracy: 0.2250\n",
      "Epoch 6/200\n",
      "10/10 [==============================] - 32s 3s/step - loss: 0.1011 - accuracy: 0.9469 - val_loss: 1.6947 - val_accuracy: 0.2250\n",
      "Epoch 7/200\n",
      "10/10 [==============================] - 32s 3s/step - loss: 0.0989 - accuracy: 0.9312 - val_loss: 1.3443 - val_accuracy: 0.2250\n",
      "Epoch 8/200\n",
      "10/10 [==============================] - 32s 3s/step - loss: 0.0746 - accuracy: 0.9656 - val_loss: 1.2472 - val_accuracy: 0.2500\n",
      "Epoch 9/200\n",
      "10/10 [==============================] - 32s 3s/step - loss: 0.0775 - accuracy: 0.9563 - val_loss: 1.9522 - val_accuracy: 0.2250\n",
      "Epoch 10/200\n",
      "10/10 [==============================] - 38s 4s/step - loss: 0.0762 - accuracy: 0.9719 - val_loss: 2.0352 - val_accuracy: 0.2250\n",
      "Epoch 11/200\n",
      "10/10 [==============================] - 35s 3s/step - loss: 0.0799 - accuracy: 0.9531 - val_loss: 0.7862 - val_accuracy: 0.2250\n",
      "Epoch 12/200\n",
      "10/10 [==============================] - 32s 3s/step - loss: 0.0539 - accuracy: 0.9688 - val_loss: 1.6941 - val_accuracy: 0.2250\n",
      "Epoch 13/200\n",
      "10/10 [==============================] - 34s 3s/step - loss: 0.0814 - accuracy: 0.9563 - val_loss: 1.8689 - val_accuracy: 0.2250\n",
      "Epoch 14/200\n",
      "10/10 [==============================] - 33s 3s/step - loss: 0.0566 - accuracy: 0.9656 - val_loss: 1.3561 - val_accuracy: 0.2625\n",
      "Epoch 15/200\n",
      "10/10 [==============================] - 32s 3s/step - loss: 0.0648 - accuracy: 0.9563 - val_loss: 1.2211 - val_accuracy: 0.2250\n",
      "Epoch 16/200\n",
      "10/10 [==============================] - 30s 3s/step - loss: 0.0721 - accuracy: 0.9594 - val_loss: 1.7180 - val_accuracy: 0.2250\n",
      "Epoch 17/200\n",
      "10/10 [==============================] - 31s 3s/step - loss: 0.0905 - accuracy: 0.9438 - val_loss: 0.6888 - val_accuracy: 0.4250\n",
      "Epoch 18/200\n",
      "10/10 [==============================] - 30s 3s/step - loss: 0.0718 - accuracy: 0.9594 - val_loss: 1.0793 - val_accuracy: 0.2875\n",
      "Epoch 19/200\n",
      "10/10 [==============================] - 30s 3s/step - loss: 0.0701 - accuracy: 0.9625 - val_loss: 0.7131 - val_accuracy: 0.4750\n",
      "Epoch 20/200\n",
      "10/10 [==============================] - 32s 3s/step - loss: 0.0622 - accuracy: 0.9625 - val_loss: 1.4083 - val_accuracy: 0.2250\n",
      "Epoch 21/200\n",
      "10/10 [==============================] - 33s 3s/step - loss: 0.1087 - accuracy: 0.9312 - val_loss: 0.4635 - val_accuracy: 0.5750\n",
      "Epoch 22/200\n",
      "10/10 [==============================] - 33s 3s/step - loss: 0.0604 - accuracy: 0.9719 - val_loss: 1.9018 - val_accuracy: 0.2625\n",
      "Epoch 23/200\n",
      "10/10 [==============================] - 33s 3s/step - loss: 0.0384 - accuracy: 0.9875 - val_loss: 2.1695 - val_accuracy: 0.2625\n",
      "Epoch 24/200\n",
      "10/10 [==============================] - 33s 3s/step - loss: 0.0387 - accuracy: 0.9781 - val_loss: 1.3654 - val_accuracy: 0.3375\n",
      "Epoch 25/200\n",
      "10/10 [==============================] - 33s 3s/step - loss: 0.0409 - accuracy: 0.9719 - val_loss: 1.8023 - val_accuracy: 0.2625\n",
      "Epoch 26/200\n",
      "10/10 [==============================] - 33s 3s/step - loss: 0.0420 - accuracy: 0.9781 - val_loss: 2.3680 - val_accuracy: 0.2875\n",
      "Epoch 27/200\n",
      "10/10 [==============================] - 32s 3s/step - loss: 0.0345 - accuracy: 0.9844 - val_loss: 0.9896 - val_accuracy: 0.3375\n",
      "Epoch 28/200\n",
      "10/10 [==============================] - 34s 3s/step - loss: 0.0315 - accuracy: 0.9844 - val_loss: 0.8630 - val_accuracy: 0.4625\n",
      "Epoch 29/200\n",
      "10/10 [==============================] - 36s 4s/step - loss: 0.0482 - accuracy: 0.9688 - val_loss: 0.4521 - val_accuracy: 0.6125\n",
      "Epoch 30/200\n",
      "10/10 [==============================] - 34s 3s/step - loss: 0.0595 - accuracy: 0.9563 - val_loss: 0.5644 - val_accuracy: 0.5250\n",
      "Epoch 31/200\n",
      "10/10 [==============================] - 34s 3s/step - loss: 0.0414 - accuracy: 0.9781 - val_loss: 0.6023 - val_accuracy: 0.5625\n",
      "Epoch 32/200\n",
      "10/10 [==============================] - 37s 4s/step - loss: 0.0428 - accuracy: 0.9812 - val_loss: 0.3431 - val_accuracy: 0.7250\n",
      "Epoch 33/200\n",
      "10/10 [==============================] - 39s 4s/step - loss: 0.0379 - accuracy: 0.9781 - val_loss: 0.4655 - val_accuracy: 0.6375\n",
      "Epoch 34/200\n",
      "10/10 [==============================] - 36s 3s/step - loss: 0.0348 - accuracy: 0.9781 - val_loss: 0.4615 - val_accuracy: 0.6375\n",
      "Epoch 35/200\n",
      "10/10 [==============================] - 33s 3s/step - loss: 0.0197 - accuracy: 0.9937 - val_loss: 0.5677 - val_accuracy: 0.5750\n",
      "Epoch 36/200\n",
      "10/10 [==============================] - 34s 3s/step - loss: 0.0132 - accuracy: 0.9969 - val_loss: 0.4141 - val_accuracy: 0.6750\n",
      "Epoch 37/200\n",
      "10/10 [==============================] - 34s 3s/step - loss: 0.0235 - accuracy: 0.9875 - val_loss: 0.6350 - val_accuracy: 0.5500\n",
      "Epoch 38/200\n",
      "10/10 [==============================] - 33s 3s/step - loss: 0.0183 - accuracy: 0.9969 - val_loss: 0.7575 - val_accuracy: 0.5125\n",
      "Epoch 39/200\n",
      "10/10 [==============================] - 36s 4s/step - loss: 0.0208 - accuracy: 0.9875 - val_loss: 0.2390 - val_accuracy: 0.8375\n",
      "Epoch 40/200\n",
      "10/10 [==============================] - 36s 4s/step - loss: 0.0899 - accuracy: 0.9688 - val_loss: 1.5882 - val_accuracy: 0.3875\n",
      "Epoch 41/200\n",
      "10/10 [==============================] - 36s 4s/step - loss: 0.0543 - accuracy: 0.9688 - val_loss: 0.3918 - val_accuracy: 0.7125\n",
      "Epoch 42/200\n",
      "10/10 [==============================] - 38s 4s/step - loss: 0.0445 - accuracy: 0.9688 - val_loss: 0.2989 - val_accuracy: 0.7750\n",
      "Epoch 43/200\n",
      "10/10 [==============================] - 39s 4s/step - loss: 0.0279 - accuracy: 0.9844 - val_loss: 0.3247 - val_accuracy: 0.7125\n",
      "Epoch 44/200\n",
      "10/10 [==============================] - 37s 4s/step - loss: 0.0180 - accuracy: 0.9906 - val_loss: 0.6681 - val_accuracy: 0.6750\n",
      "Epoch 45/200\n",
      "10/10 [==============================] - 36s 4s/step - loss: 0.0207 - accuracy: 0.9937 - val_loss: 0.4058 - val_accuracy: 0.6875\n",
      "Epoch 46/200\n",
      "10/10 [==============================] - 34s 3s/step - loss: 0.0290 - accuracy: 0.9812 - val_loss: 0.8658 - val_accuracy: 0.6000\n",
      "Epoch 47/200\n",
      " 3/10 [========>.....................] - ETA: 22s - loss: 0.0080 - accuracy: 1.0000"
     ]
    }
   ],
   "source": [
    "# opt = Adam(learning_rate=LR, decay=LR / EPOCHS)\n",
    "import tensorflow as tf\n",
    "import keras\n",
    "# Compile model\n",
    "model.compile('adam', loss=tf.keras.losses.BinaryCrossentropy(), metrics=['accuracy'])\n",
    "\n",
    "# Train model\n",
    "print(\"Training CNN...\")\n",
    "history = model.fit(augment.flow(x_train, y_train, batch_size=BATCH_SIZE),\n",
    "                              validation_data=(x_test, y_test),\n",
    "                              epochs=200, \n",
    "                              verbose=1)\n",
    "        \n",
    "scores = model.evaluate(x_test, y_test)\n",
    "print(f\"Test Accuracy: {scores[1]*100}\")"
   ]
  },
  {
   "cell_type": "markdown",
   "metadata": {},
   "source": []
  }
 ],
 "metadata": {
  "kernelspec": {
   "display_name": "base",
   "language": "python",
   "name": "python3"
  },
  "language_info": {
   "codemirror_mode": {
    "name": "ipython",
    "version": 3
   },
   "file_extension": ".py",
   "mimetype": "text/x-python",
   "name": "python",
   "nbconvert_exporter": "python",
   "pygments_lexer": "ipython3",
   "version": "3.9.12"
  },
  "orig_nbformat": 4,
  "vscode": {
   "interpreter": {
    "hash": "16b081ecf1f1f7a35d674392f0c944544191d6f551fc0dd690fab6a42cb28cc6"
   }
  }
 },
 "nbformat": 4,
 "nbformat_minor": 2
}
